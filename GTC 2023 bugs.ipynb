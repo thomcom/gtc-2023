{
 "cells": [
  {
   "cell_type": "code",
   "execution_count": 1,
   "id": "2b2e5943-7590-477a-b59b-0da753da153d",
   "metadata": {},
   "outputs": [],
   "source": [
    "# https://github.com/rapidsai/cuspatial/issues/886\n",
    "import geopandas as gpd\n",
    "import cuspatial\n",
    "host_dataframe = gpd.read_file(\n",
    "    gpd.datasets.get_path(\"naturalearth_lowres\")\n",
    ")\n",
    "dataframe = cuspatial.from_geopandas(host_dataframe)\n",
    "dataframe"
   ]
  },
  {
   "cell_type": "code",
   "execution_count": 12,
   "id": "fda6ccbd-b6a7-44b2-b7da-dd3d400560af",
   "metadata": {},
   "outputs": [
    {
     "data": {
      "text/plain": [
       "0                        POINT (0.000 1.000)\n",
       "1                        POINT (2.000 3.000)\n",
       "2                        POINT (4.000 5.000)\n",
       "3                        POINT (6.000 7.000)\n",
       "4                        POINT (8.000 9.000)\n",
       "                         ...                \n",
       "9999995    POINT (19999990.000 19999991.000)\n",
       "9999996    POINT (19999992.000 19999993.000)\n",
       "9999997    POINT (19999994.000 19999995.000)\n",
       "9999998    POINT (19999996.000 19999997.000)\n",
       "9999999    POINT (19999998.000 19999999.000)\n",
       "Length: 10000000, dtype: geometry"
      ]
     },
     "execution_count": 12,
     "metadata": {},
     "output_type": "execute_result"
    }
   ],
   "source": [
    "# https://github.com/rapidsai/cuspatial/issues/887\n",
    "import cupy as cp\n",
    "import cudf\n",
    "long = cudf.Series(cp.arange(20000000), dtype=\"float64\")\n",
    "series = cuspatial.GeoSeries(cuspatial.core._column.geocolumn.GeoColumn._from_points_xy(long._column))\n",
    "series"
   ]
  },
  {
   "cell_type": "code",
   "execution_count": 13,
   "id": "b48d8d6f-022f-4537-bc9e-eca98ade70c4",
   "metadata": {},
   "outputs": [
    {
     "data": {
      "text/plain": [
       "0    POINT (0.00000 0.00000)\n",
       "1    POINT (0.00000 0.00000)\n",
       "2    POINT (0.00000 0.00000)\n",
       "3    POINT (0.00000 0.00000)\n",
       "4    POINT (0.00000 0.00000)\n",
       "5    POINT (0.00000 0.00000)\n",
       "6    POINT (0.00000 0.00000)\n",
       "7    POINT (0.00000 0.00000)\n",
       "8    POINT (0.00000 0.00000)\n",
       "9    POINT (0.00000 0.00000)\n",
       "dtype: geometry"
      ]
     },
     "execution_count": 13,
     "metadata": {},
     "output_type": "execute_result"
    }
   ],
   "source": [
    "# https://github.com/rapidsai/cuspatial/issues/888\n",
    "import cupy as cp\n",
    "import cudf\n",
    "long = cudf.Series(cp.arange(20))\n",
    "series = cuspatial.GeoSeries(cuspatial.core._column.geocolumn.GeoColumn._from_points_xy(long._column))\n",
    "series"
   ]
  },
  {
   "cell_type": "code",
   "execution_count": 16,
   "id": "d28054c0-31f8-486d-8414-5373d97b9133",
   "metadata": {},
   "outputs": [
    {
     "ename": "RuntimeError",
     "evalue": "cuSpatial failure at: /home/tcomer/mnt/NVIDIA/rapids-docker/cuspatial/cpp/src/spatial/point_in_polygon.cu:140: Number of polygons cannot exceed 31",
     "output_type": "error",
     "traceback": [
      "\u001b[0;31m---------------------------------------------------------------------------\u001b[0m",
      "\u001b[0;31mRuntimeError\u001b[0m                              Traceback (most recent call last)",
      "Cell \u001b[0;32mIn[16], line 7\u001b[0m\n\u001b[1;32m      5\u001b[0m     \u001b[38;5;28;01mreturn\u001b[39;00m Polygon([[\u001b[38;5;241m0\u001b[39m, \u001b[38;5;241m0\u001b[39m], [\u001b[38;5;241m1\u001b[39m, \u001b[38;5;241m0\u001b[39m], [\u001b[38;5;241m1\u001b[39m, \u001b[38;5;241m1\u001b[39m]])\n\u001b[1;32m      6\u001b[0m series \u001b[38;5;241m=\u001b[39m cuspatial\u001b[38;5;241m.\u001b[39mGeoSeries([MultiPolygon([get_polygon() \u001b[38;5;28;01mfor\u001b[39;00m i \u001b[38;5;129;01min\u001b[39;00m \u001b[38;5;28mrange\u001b[39m(\u001b[38;5;241m32\u001b[39m)])])\n\u001b[0;32m----> 7\u001b[0m \u001b[43mseries\u001b[49m\u001b[38;5;241;43m.\u001b[39;49m\u001b[43mcontains_properly\u001b[49m\u001b[43m(\u001b[49m\u001b[43mcuspatial\u001b[49m\u001b[38;5;241;43m.\u001b[39;49m\u001b[43mGeoSeries\u001b[49m\u001b[43m(\u001b[49m\u001b[43m[\u001b[49m\u001b[43mPoint\u001b[49m\u001b[43m(\u001b[49m\u001b[38;5;241;43m0\u001b[39;49m\u001b[43m,\u001b[49m\u001b[43m \u001b[49m\u001b[38;5;241;43m0\u001b[39;49m\u001b[43m)\u001b[49m\u001b[43m]\u001b[49m\u001b[43m)\u001b[49m\u001b[43m)\u001b[49m\n",
      "File \u001b[0;32m~/cuspatial/python/cuspatial/cuspatial/core/geoseries.py:874\u001b[0m, in \u001b[0;36mGeoSeries.contains_properly\u001b[0;34m(self, other, align)\u001b[0m\n\u001b[1;32m    794\u001b[0m \u001b[38;5;28;01mdef\u001b[39;00m \u001b[38;5;21mcontains_properly\u001b[39m(\u001b[38;5;28mself\u001b[39m, other, align\u001b[38;5;241m=\u001b[39m\u001b[38;5;28;01mTrue\u001b[39;00m):\n\u001b[1;32m    795\u001b[0m \u001b[38;5;250m    \u001b[39m\u001b[38;5;124;03m\"\"\"Returns a `Series` of `dtype('bool')` with value `True` for each\u001b[39;00m\n\u001b[1;32m    796\u001b[0m \u001b[38;5;124;03m    aligned geometry that contains _other_.\u001b[39;00m\n\u001b[1;32m    797\u001b[0m \n\u001b[0;32m   (...)\u001b[0m\n\u001b[1;32m    872\u001b[0m \u001b[38;5;124;03m        within the corresponding polygon in the input.\u001b[39;00m\n\u001b[1;32m    873\u001b[0m \u001b[38;5;124;03m    \"\"\"\u001b[39;00m\n\u001b[0;32m--> 874\u001b[0m     \u001b[38;5;28;01mreturn\u001b[39;00m \u001b[43mContainsProperlyBinpred\u001b[49m\u001b[43m(\u001b[49m\u001b[38;5;28;43mself\u001b[39;49m\u001b[43m,\u001b[49m\u001b[43m \u001b[49m\u001b[43mother\u001b[49m\u001b[43m,\u001b[49m\u001b[43m \u001b[49m\u001b[43malign\u001b[49m\u001b[43m)\u001b[49m\u001b[43m(\u001b[49m\u001b[43m)\u001b[49m\n",
      "File \u001b[0;32m~/cuspatial/python/cuspatial/cuspatial/core/binpreds/binpreds.py:125\u001b[0m, in \u001b[0;36mBinaryPredicate.__call__\u001b[0;34m(self)\u001b[0m\n\u001b[1;32m    122\u001b[0m (lhs, rhs, indices) \u001b[38;5;241m=\u001b[39m \u001b[38;5;28mself\u001b[39m\u001b[38;5;241m.\u001b[39mpreprocess(\u001b[38;5;28mself\u001b[39m\u001b[38;5;241m.\u001b[39mlhs, \u001b[38;5;28mself\u001b[39m\u001b[38;5;241m.\u001b[39mrhs)\n\u001b[1;32m    124\u001b[0m \u001b[38;5;66;03m# Binpred call\u001b[39;00m\n\u001b[0;32m--> 125\u001b[0m point_result \u001b[38;5;241m=\u001b[39m \u001b[38;5;28;43mself\u001b[39;49m\u001b[38;5;241;43m.\u001b[39;49m\u001b[43m_op\u001b[49m\u001b[43m(\u001b[49m\u001b[43mlhs\u001b[49m\u001b[43m,\u001b[49m\u001b[43m \u001b[49m\u001b[43mrhs\u001b[49m\u001b[43m)\u001b[49m\n\u001b[1;32m    127\u001b[0m \u001b[38;5;66;03m# Postprocess: Apply discrete math rules to identify relationships.\u001b[39;00m\n\u001b[1;32m    128\u001b[0m \u001b[38;5;28;01mreturn\u001b[39;00m \u001b[38;5;28mself\u001b[39m\u001b[38;5;241m.\u001b[39mpostprocess(indices, point_result)\n",
      "File \u001b[0;32m~/cuspatial/python/cuspatial/cuspatial/core/binpreds/binpreds.py:173\u001b[0m, in \u001b[0;36mContainsProperlyBinpred._op\u001b[0;34m(self, lhs, points)\u001b[0m\n\u001b[1;32m    168\u001b[0m     \u001b[38;5;28;01mraise\u001b[39;00m \u001b[38;5;167;01mTypeError\u001b[39;00m(\n\u001b[1;32m    169\u001b[0m         \u001b[38;5;124m\"\u001b[39m\u001b[38;5;124m`.contains` can only be called with polygon series.\u001b[39m\u001b[38;5;124m\"\u001b[39m\n\u001b[1;32m    170\u001b[0m     )\n\u001b[1;32m    172\u001b[0m \u001b[38;5;66;03m# call pip on the three subtypes on the right:\u001b[39;00m\n\u001b[0;32m--> 173\u001b[0m point_result \u001b[38;5;241m=\u001b[39m \u001b[43mcontains_properly\u001b[49m\u001b[43m(\u001b[49m\n\u001b[1;32m    174\u001b[0m \u001b[43m    \u001b[49m\u001b[43mpoints\u001b[49m\u001b[38;5;241;43m.\u001b[39;49m\u001b[43mx\u001b[49m\u001b[43m,\u001b[49m\n\u001b[1;32m    175\u001b[0m \u001b[43m    \u001b[49m\u001b[43mpoints\u001b[49m\u001b[38;5;241;43m.\u001b[39;49m\u001b[43my\u001b[49m\u001b[43m,\u001b[49m\n\u001b[1;32m    176\u001b[0m \u001b[43m    \u001b[49m\u001b[43mlhs\u001b[49m\u001b[38;5;241;43m.\u001b[39;49m\u001b[43mpolygons\u001b[49m\u001b[38;5;241;43m.\u001b[39;49m\u001b[43mpart_offset\u001b[49m\u001b[43m[\u001b[49m\u001b[43m:\u001b[49m\u001b[38;5;241;43m-\u001b[39;49m\u001b[38;5;241;43m1\u001b[39;49m\u001b[43m]\u001b[49m\u001b[43m,\u001b[49m\n\u001b[1;32m    177\u001b[0m \u001b[43m    \u001b[49m\u001b[43mlhs\u001b[49m\u001b[38;5;241;43m.\u001b[39;49m\u001b[43mpolygons\u001b[49m\u001b[38;5;241;43m.\u001b[39;49m\u001b[43mring_offset\u001b[49m\u001b[43m[\u001b[49m\u001b[43m:\u001b[49m\u001b[38;5;241;43m-\u001b[39;49m\u001b[38;5;241;43m1\u001b[39;49m\u001b[43m]\u001b[49m\u001b[43m,\u001b[49m\n\u001b[1;32m    178\u001b[0m \u001b[43m    \u001b[49m\u001b[43mlhs\u001b[49m\u001b[38;5;241;43m.\u001b[39;49m\u001b[43mpolygons\u001b[49m\u001b[38;5;241;43m.\u001b[39;49m\u001b[43mx\u001b[49m\u001b[43m,\u001b[49m\n\u001b[1;32m    179\u001b[0m \u001b[43m    \u001b[49m\u001b[43mlhs\u001b[49m\u001b[38;5;241;43m.\u001b[39;49m\u001b[43mpolygons\u001b[49m\u001b[38;5;241;43m.\u001b[39;49m\u001b[43my\u001b[49m\u001b[43m,\u001b[49m\n\u001b[1;32m    180\u001b[0m \u001b[43m\u001b[49m\u001b[43m)\u001b[49m\n\u001b[1;32m    181\u001b[0m \u001b[38;5;28;01mreturn\u001b[39;00m point_result\n",
      "File \u001b[0;32m~/cuspatial/python/cuspatial/cuspatial/core/binpreds/contains.py:79\u001b[0m, in \u001b[0;36mcontains_properly\u001b[0;34m(test_points_x, test_points_y, poly_offsets, poly_ring_offsets, poly_points_x, poly_points_y)\u001b[0m\n\u001b[1;32m     70\u001b[0m     pip_result \u001b[38;5;241m=\u001b[39m cpp_pairwise_point_in_polygon(\n\u001b[1;32m     71\u001b[0m         test_points_x,\n\u001b[1;32m     72\u001b[0m         test_points_y,\n\u001b[0;32m   (...)\u001b[0m\n\u001b[1;32m     76\u001b[0m         poly_points_y,\n\u001b[1;32m     77\u001b[0m     )\n\u001b[1;32m     78\u001b[0m \u001b[38;5;28;01melse\u001b[39;00m:\n\u001b[0;32m---> 79\u001b[0m     pip_result \u001b[38;5;241m=\u001b[39m \u001b[43mcpp_point_in_polygon\u001b[49m\u001b[43m(\u001b[49m\n\u001b[1;32m     80\u001b[0m \u001b[43m        \u001b[49m\u001b[43mtest_points_x\u001b[49m\u001b[43m,\u001b[49m\n\u001b[1;32m     81\u001b[0m \u001b[43m        \u001b[49m\u001b[43mtest_points_y\u001b[49m\u001b[43m,\u001b[49m\n\u001b[1;32m     82\u001b[0m \u001b[43m        \u001b[49m\u001b[43mpoly_offsets_column\u001b[49m\u001b[43m,\u001b[49m\n\u001b[1;32m     83\u001b[0m \u001b[43m        \u001b[49m\u001b[43mpoly_ring_offsets_column\u001b[49m\u001b[43m,\u001b[49m\n\u001b[1;32m     84\u001b[0m \u001b[43m        \u001b[49m\u001b[43mpoly_points_x\u001b[49m\u001b[43m,\u001b[49m\n\u001b[1;32m     85\u001b[0m \u001b[43m        \u001b[49m\u001b[43mpoly_points_y\u001b[49m\u001b[43m,\u001b[49m\n\u001b[1;32m     86\u001b[0m \u001b[43m    \u001b[49m\u001b[43m)\u001b[49m\n\u001b[1;32m     88\u001b[0m result \u001b[38;5;241m=\u001b[39m Series(pip_result, dtype\u001b[38;5;241m=\u001b[39m\u001b[38;5;124m\"\u001b[39m\u001b[38;5;124mbool\u001b[39m\u001b[38;5;124m\"\u001b[39m)\n\u001b[1;32m     89\u001b[0m \u001b[38;5;28;01mreturn\u001b[39;00m result\n",
      "File \u001b[0;32mpoint_in_polygon.pyx:32\u001b[0m, in \u001b[0;36mcuspatial._lib.point_in_polygon.point_in_polygon\u001b[0;34m()\u001b[0m\n",
      "\u001b[0;31mRuntimeError\u001b[0m: cuSpatial failure at: /home/tcomer/mnt/NVIDIA/rapids-docker/cuspatial/cpp/src/spatial/point_in_polygon.cu:140: Number of polygons cannot exceed 31"
     ]
    }
   ],
   "source": [
    "# https://github.com/rapidsai/cuspatial/issues/889\n",
    "import cuspatial\n",
    "from shapely.geometry import MultiPolygon, Polygon, Point\n",
    "def get_polygon():\n",
    "    return Polygon([[0, 0], [1, 0], [1, 1]])\n",
    "series = cuspatial.GeoSeries([MultiPolygon([get_polygon() for i in range(32)])])\n",
    "series.contains_properly(cuspatial.GeoSeries([Point(0, 0)]))"
   ]
  },
  {
   "cell_type": "code",
   "execution_count": 5,
   "id": "0c528c0b-9571-4037-a0fc-b0a001b7fdd6",
   "metadata": {},
   "outputs": [
    {
     "ename": "MemoryError",
     "evalue": "std::bad_alloc: out_of_memory: CUDA error at: /home/tcomer/mnt/NVIDIA/rapids-docker/rmm/include/rmm/mr/device/cuda_memory_resource.hpp:70: cudaErrorMemoryAllocation out of memory",
     "output_type": "error",
     "traceback": [
      "\u001b[0;31m---------------------------------------------------------------------------\u001b[0m",
      "\u001b[0;31mMemoryError\u001b[0m                               Traceback (most recent call last)",
      "Cell \u001b[0;32mIn[5], line 67\u001b[0m\n\u001b[1;32m     61\u001b[0m dropoffs \u001b[38;5;241m=\u001b[39m make_geoseries_from_lon_lat(\n\u001b[1;32m     62\u001b[0m     taxi2015[\u001b[38;5;124m'\u001b[39m\u001b[38;5;124mdropoff_longitude\u001b[39m\u001b[38;5;124m'\u001b[39m],\n\u001b[1;32m     63\u001b[0m     taxi2015[\u001b[38;5;124m'\u001b[39m\u001b[38;5;124mdropoff_latitude\u001b[39m\u001b[38;5;124m'\u001b[39m]\n\u001b[1;32m     64\u001b[0m )\n\u001b[1;32m     65\u001b[0m \u001b[38;5;66;03m#print(quadtree(zones['geometry'], dropoffs))\u001b[39;00m\n\u001b[1;32m     66\u001b[0m \u001b[38;5;66;03m#print(quadtree(zones['geometry'].iloc[0:120], dropoffs))\u001b[39;00m\n\u001b[0;32m---> 67\u001b[0m \u001b[38;5;28mprint\u001b[39m(\u001b[43mquadtree\u001b[49m\u001b[43m(\u001b[49m\u001b[43mzones\u001b[49m\u001b[43m[\u001b[49m\u001b[38;5;124;43m'\u001b[39;49m\u001b[38;5;124;43mgeometry\u001b[39;49m\u001b[38;5;124;43m'\u001b[39;49m\u001b[43m]\u001b[49m\u001b[38;5;241;43m.\u001b[39;49m\u001b[43miloc\u001b[49m\u001b[43m[\u001b[49m\u001b[38;5;241;43m0\u001b[39;49m\u001b[43m:\u001b[49m\u001b[38;5;28;43mlen\u001b[39;49m\u001b[43m(\u001b[49m\u001b[43mzones\u001b[49m\u001b[43m)\u001b[49m\u001b[38;5;241;43m-\u001b[39;49m\u001b[38;5;241;43m10\u001b[39;49m\u001b[43m]\u001b[49m\u001b[43m,\u001b[49m\u001b[43m \u001b[49m\u001b[43mdropoffs\u001b[49m\u001b[43m)\u001b[49m)\n",
      "Cell \u001b[0;32mIn[5], line 41\u001b[0m, in \u001b[0;36mquadtree\u001b[0;34m(polygons, points)\u001b[0m\n\u001b[1;32m     35\u001b[0m poly_bboxes \u001b[38;5;241m=\u001b[39m cuspatial\u001b[38;5;241m.\u001b[39mpolygon_bounding_boxes(\n\u001b[1;32m     36\u001b[0m     poly_offsets, poly_ring_offsets, poly_points_x, poly_points_y\n\u001b[1;32m     37\u001b[0m )\n\u001b[1;32m     38\u001b[0m intersections \u001b[38;5;241m=\u001b[39m cuspatial\u001b[38;5;241m.\u001b[39mjoin_quadtree_and_bounding_boxes(\n\u001b[1;32m     39\u001b[0m     quadtree, poly_bboxes, x_min, x_max, y_min, y_max, scale, max_depth\n\u001b[1;32m     40\u001b[0m )\n\u001b[0;32m---> 41\u001b[0m polygons_and_points \u001b[38;5;241m=\u001b[39m \u001b[43mcuspatial\u001b[49m\u001b[38;5;241;43m.\u001b[39;49m\u001b[43mquadtree_point_in_polygon\u001b[49m\u001b[43m(\u001b[49m\n\u001b[1;32m     42\u001b[0m \u001b[43m    \u001b[49m\u001b[43mintersections\u001b[49m\u001b[43m,\u001b[49m\n\u001b[1;32m     43\u001b[0m \u001b[43m    \u001b[49m\u001b[43mquadtree\u001b[49m\u001b[43m,\u001b[49m\n\u001b[1;32m     44\u001b[0m \u001b[43m    \u001b[49m\u001b[43mpoint_indices\u001b[49m\u001b[43m,\u001b[49m\n\u001b[1;32m     45\u001b[0m \u001b[43m    \u001b[49m\u001b[43mtest_points_x\u001b[49m\u001b[43m,\u001b[49m\n\u001b[1;32m     46\u001b[0m \u001b[43m    \u001b[49m\u001b[43mtest_points_y\u001b[49m\u001b[43m,\u001b[49m\n\u001b[1;32m     47\u001b[0m \u001b[43m    \u001b[49m\u001b[43mpoly_offsets\u001b[49m\u001b[43m,\u001b[49m\n\u001b[1;32m     48\u001b[0m \u001b[43m    \u001b[49m\u001b[43mpoly_ring_offsets\u001b[49m\u001b[43m,\u001b[49m\n\u001b[1;32m     49\u001b[0m \u001b[43m    \u001b[49m\u001b[43mpoly_points_x\u001b[49m\u001b[43m,\u001b[49m\n\u001b[1;32m     50\u001b[0m \u001b[43m    \u001b[49m\u001b[43mpoly_points_y\u001b[49m\u001b[43m,\u001b[49m\n\u001b[1;32m     51\u001b[0m \u001b[43m\u001b[49m\u001b[43m)\u001b[49m\n\u001b[1;32m     52\u001b[0m \u001b[38;5;28;01mreturn\u001b[39;00m polygons_and_points\n",
      "File \u001b[0;32m~/cuspatial/python/cuspatial/cuspatial/core/spatial/join.py:258\u001b[0m, in \u001b[0;36mquadtree_point_in_polygon\u001b[0;34m(poly_quad_pairs, quadtree, point_indices, points_x, points_y, poly_offsets, ring_offsets, poly_points_x, poly_points_y)\u001b[0m\n\u001b[1;32m    201\u001b[0m \u001b[38;5;250m\u001b[39m\u001b[38;5;124;03m\"\"\"Test whether the specified points are inside any of the specified\u001b[39;00m\n\u001b[1;32m    202\u001b[0m \u001b[38;5;124;03mpolygons.\u001b[39;00m\n\u001b[1;32m    203\u001b[0m \n\u001b[0;32m   (...)\u001b[0m\n\u001b[1;32m    243\u001b[0m \u001b[38;5;124;03m        so it is an index to an index.\u001b[39;00m\n\u001b[1;32m    244\u001b[0m \u001b[38;5;124;03m\"\"\"\u001b[39;00m\n\u001b[1;32m    246\u001b[0m (\n\u001b[1;32m    247\u001b[0m     points_x,\n\u001b[1;32m    248\u001b[0m     points_y,\n\u001b[0;32m   (...)\u001b[0m\n\u001b[1;32m    255\u001b[0m     as_column(poly_points_y),\n\u001b[1;32m    256\u001b[0m )\n\u001b[1;32m    257\u001b[0m \u001b[38;5;28;01mreturn\u001b[39;00m DataFrame\u001b[38;5;241m.\u001b[39m_from_data(\n\u001b[0;32m--> 258\u001b[0m     \u001b[38;5;241m*\u001b[39m\u001b[43mspatial_join\u001b[49m\u001b[38;5;241;43m.\u001b[39;49m\u001b[43mquadtree_point_in_polygon\u001b[49m\u001b[43m(\u001b[49m\n\u001b[1;32m    259\u001b[0m \u001b[43m        \u001b[49m\u001b[43mpoly_quad_pairs\u001b[49m\u001b[43m,\u001b[49m\n\u001b[1;32m    260\u001b[0m \u001b[43m        \u001b[49m\u001b[43mquadtree\u001b[49m\u001b[43m,\u001b[49m\n\u001b[1;32m    261\u001b[0m \u001b[43m        \u001b[49m\u001b[43mas_column\u001b[49m\u001b[43m(\u001b[49m\u001b[43mpoint_indices\u001b[49m\u001b[43m,\u001b[49m\u001b[43m \u001b[49m\u001b[43mdtype\u001b[49m\u001b[38;5;241;43m=\u001b[39;49m\u001b[38;5;124;43m\"\u001b[39;49m\u001b[38;5;124;43muint32\u001b[39;49m\u001b[38;5;124;43m\"\u001b[39;49m\u001b[43m)\u001b[49m\u001b[43m,\u001b[49m\n\u001b[1;32m    262\u001b[0m \u001b[43m        \u001b[49m\u001b[43mpoints_x\u001b[49m\u001b[43m,\u001b[49m\n\u001b[1;32m    263\u001b[0m \u001b[43m        \u001b[49m\u001b[43mpoints_y\u001b[49m\u001b[43m,\u001b[49m\n\u001b[1;32m    264\u001b[0m \u001b[43m        \u001b[49m\u001b[43mas_column\u001b[49m\u001b[43m(\u001b[49m\u001b[43mpoly_offsets\u001b[49m\u001b[43m,\u001b[49m\u001b[43m \u001b[49m\u001b[43mdtype\u001b[49m\u001b[38;5;241;43m=\u001b[39;49m\u001b[38;5;124;43m\"\u001b[39;49m\u001b[38;5;124;43muint32\u001b[39;49m\u001b[38;5;124;43m\"\u001b[39;49m\u001b[43m)\u001b[49m\u001b[43m,\u001b[49m\n\u001b[1;32m    265\u001b[0m \u001b[43m        \u001b[49m\u001b[43mas_column\u001b[49m\u001b[43m(\u001b[49m\u001b[43mring_offsets\u001b[49m\u001b[43m,\u001b[49m\u001b[43m \u001b[49m\u001b[43mdtype\u001b[49m\u001b[38;5;241;43m=\u001b[39;49m\u001b[38;5;124;43m\"\u001b[39;49m\u001b[38;5;124;43muint32\u001b[39;49m\u001b[38;5;124;43m\"\u001b[39;49m\u001b[43m)\u001b[49m\u001b[43m,\u001b[49m\n\u001b[1;32m    266\u001b[0m \u001b[43m        \u001b[49m\u001b[43mpoly_points_x\u001b[49m\u001b[43m,\u001b[49m\n\u001b[1;32m    267\u001b[0m \u001b[43m        \u001b[49m\u001b[43mpoly_points_y\u001b[49m\u001b[43m,\u001b[49m\n\u001b[1;32m    268\u001b[0m \u001b[43m    \u001b[49m\u001b[43m)\u001b[49m\n\u001b[1;32m    269\u001b[0m )\n",
      "File \u001b[0;32mspatial_join.pyx:43\u001b[0m, in \u001b[0;36mcuspatial._lib.spatial_join.quadtree_point_in_polygon\u001b[0;34m()\u001b[0m\n",
      "File \u001b[0;32mspatial_join.pyx:65\u001b[0m, in \u001b[0;36mcuspatial._lib.spatial_join.quadtree_point_in_polygon\u001b[0;34m()\u001b[0m\n",
      "\u001b[0;31mMemoryError\u001b[0m: std::bad_alloc: out_of_memory: CUDA error at: /home/tcomer/mnt/NVIDIA/rapids-docker/rmm/include/rmm/mr/device/cuda_memory_resource.hpp:70: cudaErrorMemoryAllocation out of memory"
     ]
    }
   ],
   "source": [
    "# https://github.com/rapidsai/cuspatial/issues/890\n",
    "import cuspatial\n",
    "import cudf\n",
    "import geopandas\n",
    "import cupy as cp\n",
    "host_zones = geopandas.read_file('taxi_zones.zip')\n",
    "host_lonlat = host_zones.to_crs(epsg=4326)\n",
    "zones = cuspatial.from_geopandas(host_lonlat)\n",
    "taxi2015 = cudf.read_csv('taxi2015.csv')\n",
    "def quadtree(polygons, points):\n",
    "    poly_points_x = polygons.polygons.x\n",
    "    poly_points_y = polygons.polygons.y\n",
    "    poly_offsets = polygons.polygons.part_offset\n",
    "    poly_ring_offsets = polygons.polygons.ring_offset\n",
    "    test_points_x = points.points.x\n",
    "    test_points_y = points.points.y\n",
    "    scale = 1\n",
    "    max_depth = 15\n",
    "    min_size = 125\n",
    "    x_max = poly_points_x.max()\n",
    "    x_min = poly_points_x.min()\n",
    "    y_max = poly_points_y.max()\n",
    "    y_min = poly_points_y.min()\n",
    "    point_indices, quadtree = cuspatial.quadtree_on_points(\n",
    "        test_points_x,\n",
    "        test_points_y,\n",
    "        x_min,\n",
    "        x_max,\n",
    "        y_min,\n",
    "        y_max,\n",
    "        scale,\n",
    "        max_depth,\n",
    "        min_size,\n",
    "    )\n",
    "    poly_bboxes = cuspatial.polygon_bounding_boxes(\n",
    "        poly_offsets, poly_ring_offsets, poly_points_x, poly_points_y\n",
    "    )\n",
    "    intersections = cuspatial.join_quadtree_and_bounding_boxes(\n",
    "        quadtree, poly_bboxes, x_min, x_max, y_min, y_max, scale, max_depth\n",
    "    )\n",
    "    polygons_and_points = cuspatial.quadtree_point_in_polygon(\n",
    "        intersections,\n",
    "        quadtree,\n",
    "        point_indices,\n",
    "        test_points_x,\n",
    "        test_points_y,\n",
    "        poly_offsets,\n",
    "        poly_ring_offsets,\n",
    "        poly_points_x,\n",
    "        poly_points_y,\n",
    "    )\n",
    "    return polygons_and_points\n",
    "def make_geoseries_from_lon_lat(lon, lat):\n",
    "    # Scatter the two columns into one column\n",
    "    assert len(lon) == len(lat)\n",
    "    xy = cudf.Series(cp.zeros(len(lon) * 2))\n",
    "    xy[::2] = lon\n",
    "    xy[1::2] = lat\n",
    "\n",
    "    return cuspatial.GeoSeries(cuspatial.core._column.geocolumn.GeoColumn._from_points_xy(xy._column))\n",
    "dropoffs = make_geoseries_from_lon_lat(\n",
    "    taxi2015['dropoff_longitude'],\n",
    "    taxi2015['dropoff_latitude']\n",
    ")\n",
    "#print(quadtree(zones['geometry'], dropoffs))\n",
    "#print(quadtree(zones['geometry'].iloc[0:120], dropoffs))\n",
    "print(quadtree(zones['geometry'].iloc[0:len(zones)-10], dropoffs))"
   ]
  },
  {
   "cell_type": "code",
   "execution_count": 27,
   "id": "f30bf42f-34ce-4138-b553-cf763cb34395",
   "metadata": {},
   "outputs": [
    {
     "ename": "RuntimeError",
     "evalue": "CUDF failure at: /home/tcomer/mnt/NVIDIA/rapids-docker/cudf/cpp/src/filling/repeat.cu:109: in and count must have equal size",
     "output_type": "error",
     "traceback": [
      "\u001b[0;31m---------------------------------------------------------------------------\u001b[0m",
      "\u001b[0;31mRuntimeError\u001b[0m                              Traceback (most recent call last)",
      "Cell \u001b[0;32mIn[27], line 7\u001b[0m\n\u001b[1;32m      3\u001b[0m \u001b[38;5;28;01mimport\u001b[39;00m \u001b[38;5;21;01mcuspatial\u001b[39;00m\n\u001b[1;32m      4\u001b[0m dataframe \u001b[38;5;241m=\u001b[39m cuspatial\u001b[38;5;241m.\u001b[39mGeoDataFrame(gpd\u001b[38;5;241m.\u001b[39mread_file(\n\u001b[1;32m      5\u001b[0m     gpd\u001b[38;5;241m.\u001b[39mdatasets\u001b[38;5;241m.\u001b[39mget_path(\u001b[38;5;124m\"\u001b[39m\u001b[38;5;124mnaturalearth_lowres\u001b[39m\u001b[38;5;124m\"\u001b[39m)\n\u001b[1;32m      6\u001b[0m ))\n\u001b[0;32m----> 7\u001b[0m \u001b[43mdataframe\u001b[49m\u001b[43m[\u001b[49m\u001b[38;5;124;43m'\u001b[39;49m\u001b[38;5;124;43mgeometry\u001b[39;49m\u001b[38;5;124;43m'\u001b[39;49m\u001b[43m]\u001b[49m\u001b[38;5;241;43m.\u001b[39;49m\u001b[43mpolygons\u001b[49m\u001b[38;5;241;43m.\u001b[39;49m\u001b[43mpoint_indices\u001b[49m\u001b[43m(\u001b[49m\u001b[43m)\u001b[49m\n",
      "File \u001b[0;32m~/cuspatial/python/cuspatial/cuspatial/core/geoseries.py:242\u001b[0m, in \u001b[0;36mGeoSeries.PolygonGeoColumnAccessor.point_indices\u001b[0;34m(self)\u001b[0m\n\u001b[1;32m    240\u001b[0m offsets \u001b[38;5;241m=\u001b[39m cp\u001b[38;5;241m.\u001b[39marray(\u001b[38;5;28mself\u001b[39m\u001b[38;5;241m.\u001b[39mring_offset)\n\u001b[1;32m    241\u001b[0m sizes \u001b[38;5;241m=\u001b[39m offsets[\u001b[38;5;241m1\u001b[39m:] \u001b[38;5;241m-\u001b[39m offsets[:\u001b[38;5;241m-\u001b[39m\u001b[38;5;241m1\u001b[39m]\n\u001b[0;32m--> 242\u001b[0m \u001b[38;5;28;01mreturn\u001b[39;00m \u001b[43mcp\u001b[49m\u001b[38;5;241;43m.\u001b[39;49m\u001b[43mrepeat\u001b[49m\u001b[43m(\u001b[49m\u001b[38;5;28;43mself\u001b[39;49m\u001b[38;5;241;43m.\u001b[39;49m\u001b[43m_series\u001b[49m\u001b[38;5;241;43m.\u001b[39;49m\u001b[43mindex\u001b[49m\u001b[43m,\u001b[49m\u001b[43m \u001b[49m\u001b[43msizes\u001b[49m\u001b[43m)\u001b[49m\n",
      "File \u001b[0;32m~/compose/etc/conda/cuda_11.6/envs/notebooks/lib/python3.8/site-packages/cupy/_manipulation/tiling.py:70\u001b[0m, in \u001b[0;36mrepeat\u001b[0;34m(a, repeats, axis)\u001b[0m\n\u001b[1;32m     56\u001b[0m \u001b[38;5;28;01mdef\u001b[39;00m \u001b[38;5;21mrepeat\u001b[39m(a, repeats, axis\u001b[38;5;241m=\u001b[39m\u001b[38;5;28;01mNone\u001b[39;00m):\n\u001b[1;32m     57\u001b[0m \u001b[38;5;250m    \u001b[39m\u001b[38;5;124;03m\"\"\"Repeat arrays along an axis.\u001b[39;00m\n\u001b[1;32m     58\u001b[0m \n\u001b[1;32m     59\u001b[0m \u001b[38;5;124;03m    Args:\u001b[39;00m\n\u001b[0;32m   (...)\u001b[0m\n\u001b[1;32m     68\u001b[0m \n\u001b[1;32m     69\u001b[0m \u001b[38;5;124;03m    \"\"\"\u001b[39;00m\n\u001b[0;32m---> 70\u001b[0m     \u001b[38;5;28;01mreturn\u001b[39;00m \u001b[43ma\u001b[49m\u001b[38;5;241;43m.\u001b[39;49m\u001b[43mrepeat\u001b[49m\u001b[43m(\u001b[49m\u001b[43mrepeats\u001b[49m\u001b[43m,\u001b[49m\u001b[43m \u001b[49m\u001b[43maxis\u001b[49m\u001b[43m)\u001b[49m\n",
      "File \u001b[0;32m~/cudf/python/cudf/cudf/core/index.py:809\u001b[0m, in \u001b[0;36mRangeIndex.repeat\u001b[0;34m(self, repeats, axis)\u001b[0m\n\u001b[1;32m    808\u001b[0m \u001b[38;5;28;01mdef\u001b[39;00m \u001b[38;5;21mrepeat\u001b[39m(\u001b[38;5;28mself\u001b[39m, repeats, axis\u001b[38;5;241m=\u001b[39m\u001b[38;5;28;01mNone\u001b[39;00m):\n\u001b[0;32m--> 809\u001b[0m     \u001b[38;5;28;01mreturn\u001b[39;00m \u001b[38;5;28;43mself\u001b[39;49m\u001b[38;5;241;43m.\u001b[39;49m\u001b[43m_as_int_index\u001b[49m\u001b[43m(\u001b[49m\u001b[43m)\u001b[49m\u001b[38;5;241;43m.\u001b[39;49m\u001b[43mrepeat\u001b[49m\u001b[43m(\u001b[49m\u001b[43mrepeats\u001b[49m\u001b[43m,\u001b[49m\u001b[43m \u001b[49m\u001b[43maxis\u001b[49m\u001b[43m)\u001b[49m\n",
      "File \u001b[0;32m~/cudf/python/cudf/cudf/core/index.py:1492\u001b[0m, in \u001b[0;36mGenericIndex.repeat\u001b[0;34m(self, repeats, axis)\u001b[0m\n\u001b[1;32m   1490\u001b[0m \u001b[38;5;28;01mdef\u001b[39;00m \u001b[38;5;21mrepeat\u001b[39m(\u001b[38;5;28mself\u001b[39m, repeats, axis\u001b[38;5;241m=\u001b[39m\u001b[38;5;28;01mNone\u001b[39;00m):\n\u001b[1;32m   1491\u001b[0m     \u001b[38;5;28;01mreturn\u001b[39;00m \u001b[38;5;28mself\u001b[39m\u001b[38;5;241m.\u001b[39m_from_columns_like_self(\n\u001b[0;32m-> 1492\u001b[0m         \u001b[43mFrame\u001b[49m\u001b[38;5;241;43m.\u001b[39;49m\u001b[43m_repeat\u001b[49m\u001b[43m(\u001b[49m\u001b[43m[\u001b[49m\u001b[38;5;241;43m*\u001b[39;49m\u001b[38;5;28;43mself\u001b[39;49m\u001b[38;5;241;43m.\u001b[39;49m\u001b[43m_columns\u001b[49m\u001b[43m]\u001b[49m\u001b[43m,\u001b[49m\u001b[43m \u001b[49m\u001b[43mrepeats\u001b[49m\u001b[43m,\u001b[49m\u001b[43m \u001b[49m\u001b[43maxis\u001b[49m\u001b[43m)\u001b[49m, \u001b[38;5;28mself\u001b[39m\u001b[38;5;241m.\u001b[39m_column_names\n\u001b[1;32m   1493\u001b[0m     )\n",
      "File \u001b[0;32m~/cudf/python/cudf/cudf/core/frame.py:2810\u001b[0m, in \u001b[0;36mFrame._repeat\u001b[0;34m(columns, repeats, axis)\u001b[0m\n\u001b[1;32m   2807\u001b[0m \u001b[38;5;28;01mif\u001b[39;00m \u001b[38;5;129;01mnot\u001b[39;00m is_scalar(repeats):\n\u001b[1;32m   2808\u001b[0m     repeats \u001b[38;5;241m=\u001b[39m as_column(repeats)\n\u001b[0;32m-> 2810\u001b[0m \u001b[38;5;28;01mreturn\u001b[39;00m \u001b[43mlibcudf\u001b[49m\u001b[38;5;241;43m.\u001b[39;49m\u001b[43mfilling\u001b[49m\u001b[38;5;241;43m.\u001b[39;49m\u001b[43mrepeat\u001b[49m\u001b[43m(\u001b[49m\u001b[43mcolumns\u001b[49m\u001b[43m,\u001b[49m\u001b[43m \u001b[49m\u001b[43mrepeats\u001b[49m\u001b[43m)\u001b[49m\n",
      "File \u001b[0;32m~/compose/etc/conda/cuda_11.6/envs/notebooks/lib/python3.8/contextlib.py:75\u001b[0m, in \u001b[0;36mContextDecorator.__call__.<locals>.inner\u001b[0;34m(*args, **kwds)\u001b[0m\n\u001b[1;32m     72\u001b[0m \u001b[38;5;129m@wraps\u001b[39m(func)\n\u001b[1;32m     73\u001b[0m \u001b[38;5;28;01mdef\u001b[39;00m \u001b[38;5;21minner\u001b[39m(\u001b[38;5;241m*\u001b[39margs, \u001b[38;5;241m*\u001b[39m\u001b[38;5;241m*\u001b[39mkwds):\n\u001b[1;32m     74\u001b[0m     \u001b[38;5;28;01mwith\u001b[39;00m \u001b[38;5;28mself\u001b[39m\u001b[38;5;241m.\u001b[39m_recreate_cm():\n\u001b[0;32m---> 75\u001b[0m         \u001b[38;5;28;01mreturn\u001b[39;00m \u001b[43mfunc\u001b[49m\u001b[43m(\u001b[49m\u001b[38;5;241;43m*\u001b[39;49m\u001b[43margs\u001b[49m\u001b[43m,\u001b[49m\u001b[43m \u001b[49m\u001b[38;5;241;43m*\u001b[39;49m\u001b[38;5;241;43m*\u001b[39;49m\u001b[43mkwds\u001b[49m\u001b[43m)\u001b[49m\n",
      "File \u001b[0;32mfilling.pyx:57\u001b[0m, in \u001b[0;36mcudf._lib.filling.repeat\u001b[0;34m()\u001b[0m\n",
      "File \u001b[0;32mfilling.pyx:68\u001b[0m, in \u001b[0;36mcudf._lib.filling._repeat_via_column\u001b[0;34m()\u001b[0m\n",
      "\u001b[0;31mRuntimeError\u001b[0m: CUDF failure at: /home/tcomer/mnt/NVIDIA/rapids-docker/cudf/cpp/src/filling/repeat.cu:109: in and count must have equal size"
     ]
    }
   ],
   "source": [
    "# https://github.com/rapidsai/cuspatial/issues/891\n",
    "import geopandas as gpd\n",
    "import cuspatial\n",
    "dataframe = cuspatial.GeoDataFrame(gpd.read_file(\n",
    "    gpd.datasets.get_path(\"naturalearth_lowres\")\n",
    "))\n",
    "dataframe['geometry'].polygons.point_indices()"
   ]
  },
  {
   "cell_type": "code",
   "execution_count": 2,
   "id": "29ee347d-ccfd-4587-9410-7d65500b3323",
   "metadata": {},
   "outputs": [
    {
     "ename": "RuntimeError",
     "evalue": "CUDF failure at: /home/tcomer/mnt/NVIDIA/rapids-docker/cudf/cpp/src/filling/repeat.cu:109: in and count must have equal size",
     "output_type": "error",
     "traceback": [
      "\u001b[0;31m---------------------------------------------------------------------------\u001b[0m",
      "\u001b[0;31mRuntimeError\u001b[0m                              Traceback (most recent call last)",
      "Cell \u001b[0;32mIn[2], line 7\u001b[0m\n\u001b[1;32m      3\u001b[0m \u001b[38;5;28;01mimport\u001b[39;00m \u001b[38;5;21;01mcuspatial\u001b[39;00m\n\u001b[1;32m      4\u001b[0m df \u001b[38;5;241m=\u001b[39m cuspatial\u001b[38;5;241m.\u001b[39mGeoDataFrame(\n\u001b[1;32m      5\u001b[0m     gpd\u001b[38;5;241m.\u001b[39mread_file(gpd\u001b[38;5;241m.\u001b[39mdatasets\u001b[38;5;241m.\u001b[39mget_path(\u001b[38;5;124m'\u001b[39m\u001b[38;5;124mnaturalearth_lowres\u001b[39m\u001b[38;5;124m'\u001b[39m))\n\u001b[1;32m      6\u001b[0m )\n\u001b[0;32m----> 7\u001b[0m \u001b[43mdf\u001b[49m\u001b[43m[\u001b[49m\u001b[38;5;124;43m'\u001b[39;49m\u001b[38;5;124;43mgeometry\u001b[39;49m\u001b[38;5;124;43m'\u001b[39;49m\u001b[43m]\u001b[49m\u001b[38;5;241;43m.\u001b[39;49m\u001b[43mcontains_properly\u001b[49m\u001b[43m(\u001b[49m\u001b[43mdf\u001b[49m\u001b[43m[\u001b[49m\u001b[38;5;124;43m'\u001b[39;49m\u001b[38;5;124;43mgeometry\u001b[39;49m\u001b[38;5;124;43m'\u001b[39;49m\u001b[43m]\u001b[49m\u001b[43m)\u001b[49m\n",
      "File \u001b[0;32m~/cuspatial/python/cuspatial/cuspatial/core/geoseries.py:874\u001b[0m, in \u001b[0;36mGeoSeries.contains_properly\u001b[0;34m(self, other, align)\u001b[0m\n\u001b[1;32m    794\u001b[0m \u001b[38;5;28;01mdef\u001b[39;00m \u001b[38;5;21mcontains_properly\u001b[39m(\u001b[38;5;28mself\u001b[39m, other, align\u001b[38;5;241m=\u001b[39m\u001b[38;5;28;01mTrue\u001b[39;00m):\n\u001b[1;32m    795\u001b[0m \u001b[38;5;250m    \u001b[39m\u001b[38;5;124;03m\"\"\"Returns a `Series` of `dtype('bool')` with value `True` for each\u001b[39;00m\n\u001b[1;32m    796\u001b[0m \u001b[38;5;124;03m    aligned geometry that contains _other_.\u001b[39;00m\n\u001b[1;32m    797\u001b[0m \n\u001b[0;32m   (...)\u001b[0m\n\u001b[1;32m    872\u001b[0m \u001b[38;5;124;03m        within the corresponding polygon in the input.\u001b[39;00m\n\u001b[1;32m    873\u001b[0m \u001b[38;5;124;03m    \"\"\"\u001b[39;00m\n\u001b[0;32m--> 874\u001b[0m     \u001b[38;5;28;01mreturn\u001b[39;00m \u001b[43mContainsProperlyBinpred\u001b[49m\u001b[43m(\u001b[49m\u001b[38;5;28;43mself\u001b[39;49m\u001b[43m,\u001b[49m\u001b[43m \u001b[49m\u001b[43mother\u001b[49m\u001b[43m,\u001b[49m\u001b[43m \u001b[49m\u001b[43malign\u001b[49m\u001b[43m)\u001b[49m\u001b[43m(\u001b[49m\u001b[43m)\u001b[49m\n",
      "File \u001b[0;32m~/cuspatial/python/cuspatial/cuspatial/core/binpreds/binpreds.py:122\u001b[0m, in \u001b[0;36mBinaryPredicate.__call__\u001b[0;34m(self)\u001b[0m\n\u001b[1;32m    118\u001b[0m \u001b[38;5;250m\u001b[39m\u001b[38;5;124;03m\"\"\"Return the result of the binary predicate.\"\"\"\u001b[39;00m\n\u001b[1;32m    119\u001b[0m \u001b[38;5;66;03m# Type disambiguation\u001b[39;00m\n\u001b[1;32m    120\u001b[0m \u001b[38;5;66;03m# Type disambiguation has a large effect on the decisions of the\u001b[39;00m\n\u001b[1;32m    121\u001b[0m \u001b[38;5;66;03m# algorithm.\u001b[39;00m\n\u001b[0;32m--> 122\u001b[0m (lhs, rhs, indices) \u001b[38;5;241m=\u001b[39m \u001b[38;5;28;43mself\u001b[39;49m\u001b[38;5;241;43m.\u001b[39;49m\u001b[43mpreprocess\u001b[49m\u001b[43m(\u001b[49m\u001b[38;5;28;43mself\u001b[39;49m\u001b[38;5;241;43m.\u001b[39;49m\u001b[43mlhs\u001b[49m\u001b[43m,\u001b[49m\u001b[43m \u001b[49m\u001b[38;5;28;43mself\u001b[39;49m\u001b[38;5;241;43m.\u001b[39;49m\u001b[43mrhs\u001b[49m\u001b[43m)\u001b[49m\n\u001b[1;32m    124\u001b[0m \u001b[38;5;66;03m# Binpred call\u001b[39;00m\n\u001b[1;32m    125\u001b[0m point_result \u001b[38;5;241m=\u001b[39m \u001b[38;5;28mself\u001b[39m\u001b[38;5;241m.\u001b[39m_op(lhs, rhs)\n",
      "File \u001b[0;32m~/cuspatial/python/cuspatial/cuspatial/core/binpreds/binpreds.py:154\u001b[0m, in \u001b[0;36mContainsProperlyBinpred.preprocess\u001b[0;34m(self, lhs, rhs)\u001b[0m\n\u001b[1;32m    150\u001b[0m xy_points \u001b[38;5;241m=\u001b[39m geom\u001b[38;5;241m.\u001b[39mxy\n\u001b[1;32m    152\u001b[0m \u001b[38;5;66;03m# Arrange into shape for calling point-in-polygon, intersection, or\u001b[39;00m\n\u001b[1;32m    153\u001b[0m \u001b[38;5;66;03m# equals\u001b[39;00m\n\u001b[0;32m--> 154\u001b[0m point_indices \u001b[38;5;241m=\u001b[39m \u001b[43mgeom\u001b[49m\u001b[38;5;241;43m.\u001b[39;49m\u001b[43mpoint_indices\u001b[49m\u001b[43m(\u001b[49m\u001b[43m)\u001b[49m\n\u001b[1;32m    155\u001b[0m \u001b[38;5;28;01mfrom\u001b[39;00m \u001b[38;5;21;01mcuspatial\u001b[39;00m\u001b[38;5;21;01m.\u001b[39;00m\u001b[38;5;21;01mcore\u001b[39;00m\u001b[38;5;21;01m.\u001b[39;00m\u001b[38;5;21;01mgeoseries\u001b[39;00m \u001b[38;5;28;01mimport\u001b[39;00m GeoSeries\n\u001b[1;32m    157\u001b[0m final_rhs \u001b[38;5;241m=\u001b[39m GeoSeries(\n\u001b[1;32m    158\u001b[0m     GeoColumn\u001b[38;5;241m.\u001b[39m_from_points_xy(xy_points\u001b[38;5;241m.\u001b[39m_column)\n\u001b[1;32m    159\u001b[0m )\u001b[38;5;241m.\u001b[39mpoints\n",
      "File \u001b[0;32m~/cuspatial/python/cuspatial/cuspatial/core/geoseries.py:242\u001b[0m, in \u001b[0;36mGeoSeries.PolygonGeoColumnAccessor.point_indices\u001b[0;34m(self)\u001b[0m\n\u001b[1;32m    240\u001b[0m offsets \u001b[38;5;241m=\u001b[39m cp\u001b[38;5;241m.\u001b[39marray(\u001b[38;5;28mself\u001b[39m\u001b[38;5;241m.\u001b[39mring_offset)\n\u001b[1;32m    241\u001b[0m sizes \u001b[38;5;241m=\u001b[39m offsets[\u001b[38;5;241m1\u001b[39m:] \u001b[38;5;241m-\u001b[39m offsets[:\u001b[38;5;241m-\u001b[39m\u001b[38;5;241m1\u001b[39m]\n\u001b[0;32m--> 242\u001b[0m \u001b[38;5;28;01mreturn\u001b[39;00m \u001b[43mcp\u001b[49m\u001b[38;5;241;43m.\u001b[39;49m\u001b[43mrepeat\u001b[49m\u001b[43m(\u001b[49m\u001b[38;5;28;43mself\u001b[39;49m\u001b[38;5;241;43m.\u001b[39;49m\u001b[43m_series\u001b[49m\u001b[38;5;241;43m.\u001b[39;49m\u001b[43mindex\u001b[49m\u001b[43m,\u001b[49m\u001b[43m \u001b[49m\u001b[43msizes\u001b[49m\u001b[43m)\u001b[49m\n",
      "File \u001b[0;32m~/compose/etc/conda/cuda_11.6/envs/notebooks/lib/python3.8/site-packages/cupy/_manipulation/tiling.py:70\u001b[0m, in \u001b[0;36mrepeat\u001b[0;34m(a, repeats, axis)\u001b[0m\n\u001b[1;32m     56\u001b[0m \u001b[38;5;28;01mdef\u001b[39;00m \u001b[38;5;21mrepeat\u001b[39m(a, repeats, axis\u001b[38;5;241m=\u001b[39m\u001b[38;5;28;01mNone\u001b[39;00m):\n\u001b[1;32m     57\u001b[0m \u001b[38;5;250m    \u001b[39m\u001b[38;5;124;03m\"\"\"Repeat arrays along an axis.\u001b[39;00m\n\u001b[1;32m     58\u001b[0m \n\u001b[1;32m     59\u001b[0m \u001b[38;5;124;03m    Args:\u001b[39;00m\n\u001b[0;32m   (...)\u001b[0m\n\u001b[1;32m     68\u001b[0m \n\u001b[1;32m     69\u001b[0m \u001b[38;5;124;03m    \"\"\"\u001b[39;00m\n\u001b[0;32m---> 70\u001b[0m     \u001b[38;5;28;01mreturn\u001b[39;00m \u001b[43ma\u001b[49m\u001b[38;5;241;43m.\u001b[39;49m\u001b[43mrepeat\u001b[49m\u001b[43m(\u001b[49m\u001b[43mrepeats\u001b[49m\u001b[43m,\u001b[49m\u001b[43m \u001b[49m\u001b[43maxis\u001b[49m\u001b[43m)\u001b[49m\n",
      "File \u001b[0;32m~/cudf/python/cudf/cudf/core/index.py:809\u001b[0m, in \u001b[0;36mRangeIndex.repeat\u001b[0;34m(self, repeats, axis)\u001b[0m\n\u001b[1;32m    808\u001b[0m \u001b[38;5;28;01mdef\u001b[39;00m \u001b[38;5;21mrepeat\u001b[39m(\u001b[38;5;28mself\u001b[39m, repeats, axis\u001b[38;5;241m=\u001b[39m\u001b[38;5;28;01mNone\u001b[39;00m):\n\u001b[0;32m--> 809\u001b[0m     \u001b[38;5;28;01mreturn\u001b[39;00m \u001b[38;5;28;43mself\u001b[39;49m\u001b[38;5;241;43m.\u001b[39;49m\u001b[43m_as_int_index\u001b[49m\u001b[43m(\u001b[49m\u001b[43m)\u001b[49m\u001b[38;5;241;43m.\u001b[39;49m\u001b[43mrepeat\u001b[49m\u001b[43m(\u001b[49m\u001b[43mrepeats\u001b[49m\u001b[43m,\u001b[49m\u001b[43m \u001b[49m\u001b[43maxis\u001b[49m\u001b[43m)\u001b[49m\n",
      "File \u001b[0;32m~/cudf/python/cudf/cudf/core/index.py:1492\u001b[0m, in \u001b[0;36mGenericIndex.repeat\u001b[0;34m(self, repeats, axis)\u001b[0m\n\u001b[1;32m   1490\u001b[0m \u001b[38;5;28;01mdef\u001b[39;00m \u001b[38;5;21mrepeat\u001b[39m(\u001b[38;5;28mself\u001b[39m, repeats, axis\u001b[38;5;241m=\u001b[39m\u001b[38;5;28;01mNone\u001b[39;00m):\n\u001b[1;32m   1491\u001b[0m     \u001b[38;5;28;01mreturn\u001b[39;00m \u001b[38;5;28mself\u001b[39m\u001b[38;5;241m.\u001b[39m_from_columns_like_self(\n\u001b[0;32m-> 1492\u001b[0m         \u001b[43mFrame\u001b[49m\u001b[38;5;241;43m.\u001b[39;49m\u001b[43m_repeat\u001b[49m\u001b[43m(\u001b[49m\u001b[43m[\u001b[49m\u001b[38;5;241;43m*\u001b[39;49m\u001b[38;5;28;43mself\u001b[39;49m\u001b[38;5;241;43m.\u001b[39;49m\u001b[43m_columns\u001b[49m\u001b[43m]\u001b[49m\u001b[43m,\u001b[49m\u001b[43m \u001b[49m\u001b[43mrepeats\u001b[49m\u001b[43m,\u001b[49m\u001b[43m \u001b[49m\u001b[43maxis\u001b[49m\u001b[43m)\u001b[49m, \u001b[38;5;28mself\u001b[39m\u001b[38;5;241m.\u001b[39m_column_names\n\u001b[1;32m   1493\u001b[0m     )\n",
      "File \u001b[0;32m~/cudf/python/cudf/cudf/core/frame.py:2810\u001b[0m, in \u001b[0;36mFrame._repeat\u001b[0;34m(columns, repeats, axis)\u001b[0m\n\u001b[1;32m   2807\u001b[0m \u001b[38;5;28;01mif\u001b[39;00m \u001b[38;5;129;01mnot\u001b[39;00m is_scalar(repeats):\n\u001b[1;32m   2808\u001b[0m     repeats \u001b[38;5;241m=\u001b[39m as_column(repeats)\n\u001b[0;32m-> 2810\u001b[0m \u001b[38;5;28;01mreturn\u001b[39;00m \u001b[43mlibcudf\u001b[49m\u001b[38;5;241;43m.\u001b[39;49m\u001b[43mfilling\u001b[49m\u001b[38;5;241;43m.\u001b[39;49m\u001b[43mrepeat\u001b[49m\u001b[43m(\u001b[49m\u001b[43mcolumns\u001b[49m\u001b[43m,\u001b[49m\u001b[43m \u001b[49m\u001b[43mrepeats\u001b[49m\u001b[43m)\u001b[49m\n",
      "File \u001b[0;32m~/compose/etc/conda/cuda_11.6/envs/notebooks/lib/python3.8/contextlib.py:75\u001b[0m, in \u001b[0;36mContextDecorator.__call__.<locals>.inner\u001b[0;34m(*args, **kwds)\u001b[0m\n\u001b[1;32m     72\u001b[0m \u001b[38;5;129m@wraps\u001b[39m(func)\n\u001b[1;32m     73\u001b[0m \u001b[38;5;28;01mdef\u001b[39;00m \u001b[38;5;21minner\u001b[39m(\u001b[38;5;241m*\u001b[39margs, \u001b[38;5;241m*\u001b[39m\u001b[38;5;241m*\u001b[39mkwds):\n\u001b[1;32m     74\u001b[0m     \u001b[38;5;28;01mwith\u001b[39;00m \u001b[38;5;28mself\u001b[39m\u001b[38;5;241m.\u001b[39m_recreate_cm():\n\u001b[0;32m---> 75\u001b[0m         \u001b[38;5;28;01mreturn\u001b[39;00m \u001b[43mfunc\u001b[49m\u001b[43m(\u001b[49m\u001b[38;5;241;43m*\u001b[39;49m\u001b[43margs\u001b[49m\u001b[43m,\u001b[49m\u001b[43m \u001b[49m\u001b[38;5;241;43m*\u001b[39;49m\u001b[38;5;241;43m*\u001b[39;49m\u001b[43mkwds\u001b[49m\u001b[43m)\u001b[49m\n",
      "File \u001b[0;32mfilling.pyx:57\u001b[0m, in \u001b[0;36mcudf._lib.filling.repeat\u001b[0;34m()\u001b[0m\n",
      "File \u001b[0;32mfilling.pyx:68\u001b[0m, in \u001b[0;36mcudf._lib.filling._repeat_via_column\u001b[0;34m()\u001b[0m\n",
      "\u001b[0;31mRuntimeError\u001b[0m: CUDF failure at: /home/tcomer/mnt/NVIDIA/rapids-docker/cudf/cpp/src/filling/repeat.cu:109: in and count must have equal size"
     ]
    }
   ],
   "source": [
    "# https://github.com/cuspatial/issues/896\n",
    "import geopandas as gpd\n",
    "import cuspatial\n",
    "df = cuspatial.GeoDataFrame(\n",
    "    gpd.read_file(gpd.datasets.get_path('naturalearth_lowres'))\n",
    ")\n",
    "df['geometry'].contains_properly(df['geometry'])"
   ]
  },
  {
   "cell_type": "code",
   "execution_count": 3,
   "id": "30f78708-1803-493e-bd82-9bbb1adb2a57",
   "metadata": {},
   "outputs": [
    {
     "ename": "AttributeError",
     "evalue": "'NumericalColumn' object has no attribute 'leaves'",
     "output_type": "error",
     "traceback": [
      "\u001b[0;31m---------------------------------------------------------------------------\u001b[0m",
      "\u001b[0;31mAttributeError\u001b[0m                            Traceback (most recent call last)",
      "Cell \u001b[0;32mIn[3], line 7\u001b[0m\n\u001b[1;32m      5\u001b[0m long \u001b[38;5;241m=\u001b[39m cudf\u001b[38;5;241m.\u001b[39mSeries(cp\u001b[38;5;241m.\u001b[39marange(\u001b[38;5;241m4\u001b[39m), dtype\u001b[38;5;241m=\u001b[39m\u001b[38;5;124m\"\u001b[39m\u001b[38;5;124mfloat64\u001b[39m\u001b[38;5;124m\"\u001b[39m)\n\u001b[1;32m      6\u001b[0m series \u001b[38;5;241m=\u001b[39m cuspatial\u001b[38;5;241m.\u001b[39mGeoSeries(cuspatial\u001b[38;5;241m.\u001b[39mcore\u001b[38;5;241m.\u001b[39m_column\u001b[38;5;241m.\u001b[39mgeocolumn\u001b[38;5;241m.\u001b[39mGeoColumn\u001b[38;5;241m.\u001b[39m_from_points_xy(long\u001b[38;5;241m.\u001b[39m_column))\n\u001b[0;32m----> 7\u001b[0m \u001b[43mseries\u001b[49m\u001b[38;5;241;43m.\u001b[39;49m\u001b[43mmultipoints\u001b[49m\u001b[38;5;241;43m.\u001b[39;49m\u001b[43mxy\u001b[49m\n",
      "File \u001b[0;32m~/cuspatial/python/cuspatial/cuspatial/core/geoseries.py:155\u001b[0m, in \u001b[0;36mGeoSeries.GeoColumnAccessor.xy\u001b[0;34m(self)\u001b[0m\n\u001b[1;32m    152\u001b[0m \u001b[38;5;129m@property\u001b[39m\n\u001b[1;32m    153\u001b[0m \u001b[38;5;28;01mdef\u001b[39;00m \u001b[38;5;21mxy\u001b[39m(\u001b[38;5;28mself\u001b[39m):\n\u001b[1;32m    154\u001b[0m     \u001b[38;5;28;01mreturn\u001b[39;00m cudf\u001b[38;5;241m.\u001b[39mSeries(\n\u001b[0;32m--> 155\u001b[0m         \u001b[38;5;28;43mself\u001b[39;49m\u001b[38;5;241;43m.\u001b[39;49m\u001b[43m_get_current_features\u001b[49m\u001b[43m(\u001b[49m\u001b[38;5;28;43mself\u001b[39;49m\u001b[38;5;241;43m.\u001b[39;49m\u001b[43m_type\u001b[49m\u001b[43m)\u001b[49m\u001b[38;5;241;43m.\u001b[39;49m\u001b[43mleaves\u001b[49m()\u001b[38;5;241m.\u001b[39mvalues\n\u001b[1;32m    156\u001b[0m     )\n",
      "\u001b[0;31mAttributeError\u001b[0m: 'NumericalColumn' object has no attribute 'leaves'"
     ]
    }
   ],
   "source": [
    "# https://github.com/rapidsai/cuspatial/issues/897\n",
    "import cupy as cp\n",
    "import cudf\n",
    "import cuspatial\n",
    "long = cudf.Series(cp.arange(4), dtype=\"float64\")\n",
    "series = cuspatial.GeoSeries(cuspatial.core._column.geocolumn.GeoColumn._from_points_xy(long._column))\n",
    "series.multipoints.xy"
   ]
  },
  {
   "cell_type": "code",
   "execution_count": 10,
   "id": "be62147a-8b43-498f-bc66-28eadd77fd91",
   "metadata": {},
   "outputs": [
    {
     "name": "stdout",
     "output_type": "stream",
     "text": [
      "[0 1]\n",
      "[0 5]\n"
     ]
    },
    {
     "ename": "RuntimeError",
     "evalue": "cuSpatial failure at: /home/tcomer/mnt/NVIDIA/rapids-docker/cuspatial/cpp/src/join/quadtree_point_in_polygon.cu:271: all rings must have at least 3 vertices",
     "output_type": "error",
     "traceback": [
      "\u001b[0;31m---------------------------------------------------------------------------\u001b[0m",
      "\u001b[0;31mRuntimeError\u001b[0m                              Traceback (most recent call last)",
      "Cell \u001b[0;32mIn[10], line 57\u001b[0m\n\u001b[1;32m     53\u001b[0m points \u001b[38;5;241m=\u001b[39m cuspatial\u001b[38;5;241m.\u001b[39mGeoSeries([Point(\u001b[38;5;241m0.5\u001b[39m, \u001b[38;5;241m0.5\u001b[39m), Point(\u001b[38;5;241m0.5\u001b[39m, \u001b[38;5;241m0.5\u001b[39m)])\n\u001b[1;32m     54\u001b[0m polygons \u001b[38;5;241m=\u001b[39m cuspatial\u001b[38;5;241m.\u001b[39mGeoSeries([\n\u001b[1;32m     55\u001b[0m     Polygon([[\u001b[38;5;241m0\u001b[39m, \u001b[38;5;241m0\u001b[39m], [\u001b[38;5;241m1\u001b[39m, \u001b[38;5;241m0\u001b[39m], [\u001b[38;5;241m1\u001b[39m, \u001b[38;5;241m1\u001b[39m], [\u001b[38;5;241m0\u001b[39m, \u001b[38;5;241m1\u001b[39m], [\u001b[38;5;241m0\u001b[39m, \u001b[38;5;241m0\u001b[39m]])\n\u001b[1;32m     56\u001b[0m ])\n\u001b[0;32m---> 57\u001b[0m \u001b[43mquadtree\u001b[49m\u001b[43m(\u001b[49m\u001b[43mpolygons\u001b[49m\u001b[43m,\u001b[49m\u001b[43m \u001b[49m\u001b[43mpoints\u001b[49m\u001b[43m)\u001b[49m\n",
      "Cell \u001b[0;32mIn[10], line 41\u001b[0m, in \u001b[0;36mquadtree\u001b[0;34m(polygons, points)\u001b[0m\n\u001b[1;32m     39\u001b[0m \u001b[38;5;28mprint\u001b[39m(poly_offsets)\n\u001b[1;32m     40\u001b[0m \u001b[38;5;28mprint\u001b[39m(poly_ring_offsets)\n\u001b[0;32m---> 41\u001b[0m polygons_and_points \u001b[38;5;241m=\u001b[39m \u001b[43mcuspatial\u001b[49m\u001b[38;5;241;43m.\u001b[39;49m\u001b[43mquadtree_point_in_polygon\u001b[49m\u001b[43m(\u001b[49m\n\u001b[1;32m     42\u001b[0m \u001b[43m    \u001b[49m\u001b[43mintersections\u001b[49m\u001b[43m,\u001b[49m\n\u001b[1;32m     43\u001b[0m \u001b[43m    \u001b[49m\u001b[43mquadtree\u001b[49m\u001b[43m,\u001b[49m\n\u001b[1;32m     44\u001b[0m \u001b[43m    \u001b[49m\u001b[43mpoint_indices\u001b[49m\u001b[43m,\u001b[49m\n\u001b[1;32m     45\u001b[0m \u001b[43m    \u001b[49m\u001b[43mtest_points_x\u001b[49m\u001b[43m,\u001b[49m\n\u001b[1;32m     46\u001b[0m \u001b[43m    \u001b[49m\u001b[43mtest_points_y\u001b[49m\u001b[43m,\u001b[49m\n\u001b[1;32m     47\u001b[0m \u001b[43m    \u001b[49m\u001b[43mpoly_offsets\u001b[49m\u001b[43m,\u001b[49m\n\u001b[1;32m     48\u001b[0m \u001b[43m    \u001b[49m\u001b[43mpoly_ring_offsets\u001b[49m\u001b[43m,\u001b[49m\n\u001b[1;32m     49\u001b[0m \u001b[43m    \u001b[49m\u001b[43mpoly_points_x\u001b[49m\u001b[43m,\u001b[49m\n\u001b[1;32m     50\u001b[0m \u001b[43m    \u001b[49m\u001b[43mpoly_points_y\u001b[49m\u001b[43m,\u001b[49m\n\u001b[1;32m     51\u001b[0m \u001b[43m\u001b[49m\u001b[43m)\u001b[49m\n\u001b[1;32m     52\u001b[0m \u001b[38;5;28;01mreturn\u001b[39;00m polygons_and_points\n",
      "File \u001b[0;32m~/cuspatial/python/cuspatial/cuspatial/core/spatial/join.py:258\u001b[0m, in \u001b[0;36mquadtree_point_in_polygon\u001b[0;34m(poly_quad_pairs, quadtree, point_indices, points_x, points_y, poly_offsets, ring_offsets, poly_points_x, poly_points_y)\u001b[0m\n\u001b[1;32m    201\u001b[0m \u001b[38;5;250m\u001b[39m\u001b[38;5;124;03m\"\"\"Test whether the specified points are inside any of the specified\u001b[39;00m\n\u001b[1;32m    202\u001b[0m \u001b[38;5;124;03mpolygons.\u001b[39;00m\n\u001b[1;32m    203\u001b[0m \n\u001b[0;32m   (...)\u001b[0m\n\u001b[1;32m    243\u001b[0m \u001b[38;5;124;03m        so it is an index to an index.\u001b[39;00m\n\u001b[1;32m    244\u001b[0m \u001b[38;5;124;03m\"\"\"\u001b[39;00m\n\u001b[1;32m    246\u001b[0m (\n\u001b[1;32m    247\u001b[0m     points_x,\n\u001b[1;32m    248\u001b[0m     points_y,\n\u001b[0;32m   (...)\u001b[0m\n\u001b[1;32m    255\u001b[0m     as_column(poly_points_y),\n\u001b[1;32m    256\u001b[0m )\n\u001b[1;32m    257\u001b[0m \u001b[38;5;28;01mreturn\u001b[39;00m DataFrame\u001b[38;5;241m.\u001b[39m_from_data(\n\u001b[0;32m--> 258\u001b[0m     \u001b[38;5;241m*\u001b[39m\u001b[43mspatial_join\u001b[49m\u001b[38;5;241;43m.\u001b[39;49m\u001b[43mquadtree_point_in_polygon\u001b[49m\u001b[43m(\u001b[49m\n\u001b[1;32m    259\u001b[0m \u001b[43m        \u001b[49m\u001b[43mpoly_quad_pairs\u001b[49m\u001b[43m,\u001b[49m\n\u001b[1;32m    260\u001b[0m \u001b[43m        \u001b[49m\u001b[43mquadtree\u001b[49m\u001b[43m,\u001b[49m\n\u001b[1;32m    261\u001b[0m \u001b[43m        \u001b[49m\u001b[43mas_column\u001b[49m\u001b[43m(\u001b[49m\u001b[43mpoint_indices\u001b[49m\u001b[43m,\u001b[49m\u001b[43m \u001b[49m\u001b[43mdtype\u001b[49m\u001b[38;5;241;43m=\u001b[39;49m\u001b[38;5;124;43m\"\u001b[39;49m\u001b[38;5;124;43muint32\u001b[39;49m\u001b[38;5;124;43m\"\u001b[39;49m\u001b[43m)\u001b[49m\u001b[43m,\u001b[49m\n\u001b[1;32m    262\u001b[0m \u001b[43m        \u001b[49m\u001b[43mpoints_x\u001b[49m\u001b[43m,\u001b[49m\n\u001b[1;32m    263\u001b[0m \u001b[43m        \u001b[49m\u001b[43mpoints_y\u001b[49m\u001b[43m,\u001b[49m\n\u001b[1;32m    264\u001b[0m \u001b[43m        \u001b[49m\u001b[43mas_column\u001b[49m\u001b[43m(\u001b[49m\u001b[43mpoly_offsets\u001b[49m\u001b[43m,\u001b[49m\u001b[43m \u001b[49m\u001b[43mdtype\u001b[49m\u001b[38;5;241;43m=\u001b[39;49m\u001b[38;5;124;43m\"\u001b[39;49m\u001b[38;5;124;43muint32\u001b[39;49m\u001b[38;5;124;43m\"\u001b[39;49m\u001b[43m)\u001b[49m\u001b[43m,\u001b[49m\n\u001b[1;32m    265\u001b[0m \u001b[43m        \u001b[49m\u001b[43mas_column\u001b[49m\u001b[43m(\u001b[49m\u001b[43mring_offsets\u001b[49m\u001b[43m,\u001b[49m\u001b[43m \u001b[49m\u001b[43mdtype\u001b[49m\u001b[38;5;241;43m=\u001b[39;49m\u001b[38;5;124;43m\"\u001b[39;49m\u001b[38;5;124;43muint32\u001b[39;49m\u001b[38;5;124;43m\"\u001b[39;49m\u001b[43m)\u001b[49m\u001b[43m,\u001b[49m\n\u001b[1;32m    266\u001b[0m \u001b[43m        \u001b[49m\u001b[43mpoly_points_x\u001b[49m\u001b[43m,\u001b[49m\n\u001b[1;32m    267\u001b[0m \u001b[43m        \u001b[49m\u001b[43mpoly_points_y\u001b[49m\u001b[43m,\u001b[49m\n\u001b[1;32m    268\u001b[0m \u001b[43m    \u001b[49m\u001b[43m)\u001b[49m\n\u001b[1;32m    269\u001b[0m )\n",
      "File \u001b[0;32mspatial_join.pyx:43\u001b[0m, in \u001b[0;36mcuspatial._lib.spatial_join.quadtree_point_in_polygon\u001b[0;34m()\u001b[0m\n",
      "File \u001b[0;32mspatial_join.pyx:65\u001b[0m, in \u001b[0;36mcuspatial._lib.spatial_join.quadtree_point_in_polygon\u001b[0;34m()\u001b[0m\n",
      "\u001b[0;31mRuntimeError\u001b[0m: cuSpatial failure at: /home/tcomer/mnt/NVIDIA/rapids-docker/cuspatial/cpp/src/join/quadtree_point_in_polygon.cu:271: all rings must have at least 3 vertices"
     ]
    }
   ],
   "source": [
    "# https://github.com/rapidsai/cuspatial/issues/895\n",
    "# quadtree degenerate case\n",
    "import cuspatial\n",
    "import cudf\n",
    "import geopandas\n",
    "import cupy as cp\n",
    "from shapely.geometry import Polygon, Point\n",
    "def quadtree(polygons, points):\n",
    "    poly_points_x = polygons.polygons.x\n",
    "    poly_points_y = polygons.polygons.y\n",
    "    poly_offsets = polygons.polygons.part_offset\n",
    "    poly_ring_offsets = polygons.polygons.ring_offset\n",
    "    test_points_x = points.points.x\n",
    "    test_points_y = points.points.y\n",
    "    scale = 1\n",
    "    max_depth = 15\n",
    "    min_size = 125\n",
    "    x_max = poly_points_x.max()\n",
    "    x_min = poly_points_x.min()\n",
    "    y_max = poly_points_y.max()\n",
    "    y_min = poly_points_y.min()\n",
    "    point_indices, quadtree = cuspatial.quadtree_on_points(\n",
    "        test_points_x,\n",
    "        test_points_y,\n",
    "        x_min,\n",
    "        x_max,\n",
    "        y_min,\n",
    "        y_max,\n",
    "        scale,\n",
    "        max_depth,\n",
    "        min_size,\n",
    "    )\n",
    "    poly_bboxes = cuspatial.polygon_bounding_boxes(\n",
    "        poly_offsets, poly_ring_offsets, poly_points_x, poly_points_y\n",
    "    )\n",
    "    intersections = cuspatial.join_quadtree_and_bounding_boxes(\n",
    "        quadtree, poly_bboxes, x_min, x_max, y_min, y_max, scale, max_depth\n",
    "    )\n",
    "    print(poly_offsets)\n",
    "    print(poly_ring_offsets)\n",
    "    polygons_and_points = cuspatial.quadtree_point_in_polygon(\n",
    "        intersections,\n",
    "        quadtree,\n",
    "        point_indices,\n",
    "        test_points_x,\n",
    "        test_points_y,\n",
    "        poly_offsets,\n",
    "        poly_ring_offsets,\n",
    "        poly_points_x,\n",
    "        poly_points_y,\n",
    "    )\n",
    "    return polygons_and_points\n",
    "points = cuspatial.GeoSeries([Point(0.5, 0.5), Point(0.5, 0.5)])\n",
    "polygons = cuspatial.GeoSeries([\n",
    "    Polygon([[0, 0], [1, 0], [1, 1], [0, 1], [0, 0]])\n",
    "])\n",
    "quadtree(polygons, points)"
   ]
  },
  {
   "cell_type": "code",
   "execution_count": null,
   "id": "77911c8b-90ed-49a7-9443-04ea989f34c2",
   "metadata": {},
   "outputs": [],
   "source": []
  }
 ],
 "metadata": {
  "kernelspec": {
   "display_name": "Python 3 (ipykernel)",
   "language": "python",
   "name": "python3"
  },
  "language_info": {
   "codemirror_mode": {
    "name": "ipython",
    "version": 3
   },
   "file_extension": ".py",
   "mimetype": "text/x-python",
   "name": "python",
   "nbconvert_exporter": "python",
   "pygments_lexer": "ipython3",
   "version": "3.8.15"
  }
 },
 "nbformat": 4,
 "nbformat_minor": 5
}
